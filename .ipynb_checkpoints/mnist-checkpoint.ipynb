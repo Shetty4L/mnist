{
 "metadata": {
  "name": "",
  "signature": "sha256:59cb2151a21331e8edfa1f68ff32b9089b1b7fb28f1e8ce31eb3cbd709a80230"
 },
 "nbformat": 3,
 "nbformat_minor": 0,
 "worksheets": [
  {
   "cells": [
    {
     "cell_type": "code",
     "collapsed": false,
     "input": [
      "import numpy as np\n",
      "import matplotlib.pyplot as plt\n",
      "import cPickle\n",
      "import gzip\n",
      "%matplotlib inline\n",
      "%load_ext autoreload\n",
      "%autoreload 2"
     ],
     "language": "python",
     "metadata": {},
     "outputs": [],
     "prompt_number": 1
    },
    {
     "cell_type": "code",
     "collapsed": false,
     "input": [
      "f = gzip.open('mnist.pkl.gz','rb')\n",
      "train_data, val_data, test_data = cPickle.load(f)\n",
      "f.close()"
     ],
     "language": "python",
     "metadata": {},
     "outputs": [],
     "prompt_number": 2
    },
    {
     "cell_type": "code",
     "collapsed": false,
     "input": [
      "X_train, y_train = train_data[0],train_data[1]\n",
      "X_val, y_val = val_data[0],val_data[1]\n",
      "X_test, y_test = test_data[0],test_data[1]\n",
      "\n",
      "print X_train.shape,y_train.shape\n",
      "print X_val.shape,y_val.shape\n",
      "print X_test.shape,y_test.shape"
     ],
     "language": "python",
     "metadata": {},
     "outputs": [
      {
       "output_type": "stream",
       "stream": "stdout",
       "text": [
        "(50000, 784) (50000,)\n",
        "(10000, 784) (10000,)\n",
        "(10000, 784) (10000,)\n"
       ]
      }
     ],
     "prompt_number": 3
    },
    {
     "cell_type": "code",
     "collapsed": false,
     "input": [
      "mean_image = np.mean(X_train,axis=0)\n",
      "X_train -= mean_image\n",
      "X_val -= mean_image\n",
      "X_test -= mean_image"
     ],
     "language": "python",
     "metadata": {},
     "outputs": [],
     "prompt_number": 4
    },
    {
     "cell_type": "code",
     "collapsed": false,
     "input": [
      "from mnist import NeuralNet\n",
      "input_size = X_train.shape[1]\n",
      "hidden_size = 30\n",
      "output_size = np.max(y_train)+1\n",
      "\n",
      "nn = NeuralNet(input_size,hidden_size,output_size)\n",
      "loss,grads = nn.loss(X_train,y_train,reg=0.0)\n",
      "\n",
      "print loss"
     ],
     "language": "python",
     "metadata": {},
     "outputs": [
      {
       "output_type": "stream",
       "stream": "stdout",
       "text": [
        "2.38774292252\n"
       ]
      }
     ],
     "prompt_number": 5
    },
    {
     "cell_type": "code",
     "collapsed": false,
     "input": [
      "best_nn = None\n",
      "best_accuracy = -1\n",
      "opt_reg = 0.0\n",
      "opt_lr = 0.0"
     ],
     "language": "python",
     "metadata": {},
     "outputs": [],
     "prompt_number": 25
    },
    {
     "cell_type": "code",
     "collapsed": false,
     "input": [
      "input_size = X_val.shape[1]\n",
      "hidden_size = 150\n",
      "output_size = np.max(y_val)+1\n",
      "\n",
      "regularization_rates = np.arange(1e-4,1e-1,5e-4)\n",
      "learning_rates = np.arange(1e-3,1e-2,1e-4)\n",
      "learning_rate_decay = 0.95\n",
      "batch_size = 200\n",
      "num_iters = 200\n",
      "num_folds = 10\n",
      "X_folds = np.array(np.array_split(X_val,num_folds))\n",
      "y_folds = np.array(np.array_split(y_val,num_folds))\n",
      "\n",
      "num_attempts = 5\n",
      "for it in range(num_attempts):\n",
      "    for i in range(num_folds):\n",
      "        indices = np.arange(0,num_folds)\n",
      "        indices = np.delete(indices,i)\n",
      "        X_train_fold = np.concatenate(X_folds[indices])\n",
      "        y_train_fold = np.concatenate(y_folds[indices])\n",
      "        X_test_fold = X_folds[i]\n",
      "        y_test_fold = y_folds[i]\n",
      "\n",
      "        reg = 0.0\n",
      "        lr = np.random.choice(learning_rates)\n",
      "\n",
      "        nn = NeuralNet(input_size,hidden_size,output_size)\n",
      "        stats = nn.train(X_train_fold,y_train_fold,X_val,y_val,reg,lr,learning_rate_decay,batch_size,num_iters,verbose=False)\n",
      "        y_pred = nn.predict(X_test_fold)\n",
      "        accuracy = np.mean(y_pred == y_test_fold)\n",
      "\n",
      "        if accuracy > best_accuracy:\n",
      "            best_accuracy = accuracy\n",
      "            opt_reg = reg\n",
      "            opt_lr = lr\n",
      "            best_nn = nn\n",
      "\n",
      "#         print \"LR=%f\\tReg=%f\\tAccuracy=%f\\n\" % (lr,reg,accuracy)   \n",
      "\n",
      "print \"Best Result:\\n\"\n",
      "print \"LR=%f\\tReg=%f\\tAccuracy=%f\\n\" % (opt_lr,opt_reg,best_accuracy)   "
     ],
     "language": "python",
     "metadata": {},
     "outputs": [
      {
       "output_type": "stream",
       "stream": "stdout",
       "text": [
        "LR=0.001500\tReg=0.000000\tAccuracy=0.945000\n",
        "\n",
        "LR=0.005200\tReg=0.000000\tAccuracy=0.950000\n"
       ]
      },
      {
       "output_type": "stream",
       "stream": "stdout",
       "text": [
        "\n",
        "LR=0.008100\tReg=0.000000\tAccuracy=0.934000\n"
       ]
      },
      {
       "output_type": "stream",
       "stream": "stdout",
       "text": [
        "\n",
        "LR=0.008100\tReg=0.000000\tAccuracy=0.950000\n"
       ]
      },
      {
       "output_type": "stream",
       "stream": "stdout",
       "text": [
        "\n",
        "LR=0.006500\tReg=0.000000\tAccuracy=0.941000\n"
       ]
      },
      {
       "output_type": "stream",
       "stream": "stdout",
       "text": [
        "\n",
        "LR=0.002800\tReg=0.000000\tAccuracy=0.945000\n"
       ]
      },
      {
       "output_type": "stream",
       "stream": "stdout",
       "text": [
        "\n",
        "LR=0.005000\tReg=0.000000\tAccuracy=0.961000\n"
       ]
      },
      {
       "output_type": "stream",
       "stream": "stdout",
       "text": [
        "\n",
        "LR=0.005200\tReg=0.000000\tAccuracy=0.965000\n"
       ]
      },
      {
       "output_type": "stream",
       "stream": "stdout",
       "text": [
        "\n",
        "LR=0.005900\tReg=0.000000\tAccuracy=0.970000\n"
       ]
      },
      {
       "output_type": "stream",
       "stream": "stdout",
       "text": [
        "\n",
        "LR=0.001000\tReg=0.000000\tAccuracy=0.956000\n"
       ]
      },
      {
       "output_type": "stream",
       "stream": "stdout",
       "text": [
        "\n",
        "LR=0.002300\tReg=0.000000\tAccuracy=0.945000\n"
       ]
      },
      {
       "output_type": "stream",
       "stream": "stdout",
       "text": [
        "\n",
        "LR=0.007600\tReg=0.000000\tAccuracy=0.953000\n"
       ]
      },
      {
       "output_type": "stream",
       "stream": "stdout",
       "text": [
        "\n",
        "LR=0.001200\tReg=0.000000\tAccuracy=0.916000\n"
       ]
      },
      {
       "output_type": "stream",
       "stream": "stdout",
       "text": [
        "\n",
        "LR=0.009200\tReg=0.000000\tAccuracy=0.952000\n"
       ]
      },
      {
       "output_type": "stream",
       "stream": "stdout",
       "text": [
        "\n",
        "LR=0.008000\tReg=0.000000\tAccuracy=0.949000\n"
       ]
      },
      {
       "output_type": "stream",
       "stream": "stdout",
       "text": [
        "\n",
        "LR=0.003600\tReg=0.000000\tAccuracy=0.947000\n"
       ]
      },
      {
       "output_type": "stream",
       "stream": "stdout",
       "text": [
        "\n",
        "LR=0.003100\tReg=0.000000\tAccuracy=0.955000\n"
       ]
      },
      {
       "output_type": "stream",
       "stream": "stdout",
       "text": [
        "\n",
        "LR=0.001500\tReg=0.000000\tAccuracy=0.953000\n"
       ]
      },
      {
       "output_type": "stream",
       "stream": "stdout",
       "text": [
        "\n",
        "LR=0.005900\tReg=0.000000\tAccuracy=0.970000\n"
       ]
      },
      {
       "output_type": "stream",
       "stream": "stdout",
       "text": [
        "\n",
        "LR=0.006600\tReg=0.000000\tAccuracy=0.965000\n"
       ]
      },
      {
       "output_type": "stream",
       "stream": "stdout",
       "text": [
        "\n",
        "LR=0.009800\tReg=0.000000\tAccuracy=0.943000\n"
       ]
      },
      {
       "output_type": "stream",
       "stream": "stdout",
       "text": [
        "\n",
        "LR=0.008300\tReg=0.000000\tAccuracy=0.954000\n"
       ]
      },
      {
       "output_type": "stream",
       "stream": "stdout",
       "text": [
        "\n",
        "LR=0.003700\tReg=0.000000\tAccuracy=0.926000\n"
       ]
      },
      {
       "output_type": "stream",
       "stream": "stdout",
       "text": [
        "\n",
        "LR=0.004900\tReg=0.000000\tAccuracy=0.947000\n"
       ]
      },
      {
       "output_type": "stream",
       "stream": "stdout",
       "text": [
        "\n",
        "LR=0.003800\tReg=0.000000\tAccuracy=0.943000\n"
       ]
      },
      {
       "output_type": "stream",
       "stream": "stdout",
       "text": [
        "\n",
        "LR=0.003800\tReg=0.000000\tAccuracy=0.950000\n"
       ]
      },
      {
       "output_type": "stream",
       "stream": "stdout",
       "text": [
        "\n",
        "LR=0.007600\tReg=0.000000\tAccuracy=0.958000\n"
       ]
      },
      {
       "output_type": "stream",
       "stream": "stdout",
       "text": [
        "\n",
        "LR=0.005800\tReg=0.000000\tAccuracy=0.955000\n"
       ]
      },
      {
       "output_type": "stream",
       "stream": "stdout",
       "text": [
        "\n",
        "LR=0.003500\tReg=0.000000\tAccuracy=0.966000\n"
       ]
      },
      {
       "output_type": "stream",
       "stream": "stdout",
       "text": [
        "\n",
        "LR=0.007000\tReg=0.000000\tAccuracy=0.968000\n"
       ]
      },
      {
       "output_type": "stream",
       "stream": "stdout",
       "text": [
        "\n",
        "LR=0.002000\tReg=0.000000\tAccuracy=0.945000\n"
       ]
      },
      {
       "output_type": "stream",
       "stream": "stdout",
       "text": [
        "\n",
        "LR=0.001500\tReg=0.000000\tAccuracy=0.948000\n"
       ]
      },
      {
       "output_type": "stream",
       "stream": "stdout",
       "text": [
        "\n",
        "LR=0.005500\tReg=0.000000\tAccuracy=0.937000\n"
       ]
      },
      {
       "output_type": "stream",
       "stream": "stdout",
       "text": [
        "\n",
        "LR=0.006600\tReg=0.000000\tAccuracy=0.948000\n"
       ]
      },
      {
       "output_type": "stream",
       "stream": "stdout",
       "text": [
        "\n",
        "LR=0.002900\tReg=0.000000\tAccuracy=0.952000\n"
       ]
      },
      {
       "output_type": "stream",
       "stream": "stdout",
       "text": [
        "\n",
        "LR=0.002900\tReg=0.000000\tAccuracy=0.941000\n"
       ]
      },
      {
       "output_type": "stream",
       "stream": "stdout",
       "text": [
        "\n",
        "LR=0.006800\tReg=0.000000\tAccuracy=0.961000\n"
       ]
      },
      {
       "output_type": "stream",
       "stream": "stdout",
       "text": [
        "\n",
        "LR=0.005700\tReg=0.000000\tAccuracy=0.953000\n"
       ]
      },
      {
       "output_type": "stream",
       "stream": "stdout",
       "text": [
        "\n",
        "LR=0.004600\tReg=0.000000\tAccuracy=0.966000\n"
       ]
      },
      {
       "output_type": "stream",
       "stream": "stdout",
       "text": [
        "\n",
        "LR=0.005000\tReg=0.000000\tAccuracy=0.964000\n"
       ]
      },
      {
       "output_type": "stream",
       "stream": "stdout",
       "text": [
        "\n",
        "LR=0.004700\tReg=0.000000\tAccuracy=0.941000\n"
       ]
      },
      {
       "output_type": "stream",
       "stream": "stdout",
       "text": [
        "\n",
        "LR=0.009700\tReg=0.000000\tAccuracy=0.957000\n"
       ]
      },
      {
       "output_type": "stream",
       "stream": "stdout",
       "text": [
        "\n",
        "LR=0.005800\tReg=0.000000\tAccuracy=0.935000\n"
       ]
      },
      {
       "output_type": "stream",
       "stream": "stdout",
       "text": [
        "\n",
        "LR=0.006200\tReg=0.000000\tAccuracy=0.951000\n"
       ]
      },
      {
       "output_type": "stream",
       "stream": "stdout",
       "text": [
        "\n",
        "LR=0.007100\tReg=0.000000\tAccuracy=0.942000\n"
       ]
      },
      {
       "output_type": "stream",
       "stream": "stdout",
       "text": [
        "\n",
        "LR=0.002900\tReg=0.000000\tAccuracy=0.950000\n"
       ]
      },
      {
       "output_type": "stream",
       "stream": "stdout",
       "text": [
        "\n",
        "LR=0.007200\tReg=0.000000\tAccuracy=0.958000\n"
       ]
      },
      {
       "output_type": "stream",
       "stream": "stdout",
       "text": [
        "\n",
        "LR=0.002700\tReg=0.000000\tAccuracy=0.945000\n"
       ]
      },
      {
       "output_type": "stream",
       "stream": "stdout",
       "text": [
        "\n",
        "LR=0.005200\tReg=0.000000\tAccuracy=0.971000\n"
       ]
      },
      {
       "output_type": "stream",
       "stream": "stdout",
       "text": [
        "\n",
        "LR=0.007200\tReg=0.000000\tAccuracy=0.971000\n"
       ]
      },
      {
       "output_type": "stream",
       "stream": "stdout",
       "text": [
        "\n",
        "Best Result:\n",
        "\n",
        "LR=0.005200\tReg=0.000000\tAccuracy=0.971000\n",
        "\n"
       ]
      }
     ],
     "prompt_number": 26
    },
    {
     "cell_type": "code",
     "collapsed": false,
     "input": [
      "input_size = X_train.shape[1]\n",
      "hidden_size = 500\n",
      "output_size = np.max(y_train)+1\n",
      "\n",
      "reg = 0.0\n",
      "learning_rate = opt_lr # lr = 1.15\n",
      "learning_rate_decay = 0.95\n",
      "num_iters = 1000\n",
      "batch_size = 200\n",
      "\n",
      "nn = NeuralNet(input_size,hidden_size,output_size)\n",
      "stats = nn.train(X_train,y_train,X_val,y_val,reg,learning_rate,learning_rate_decay,batch_size,num_iters,verbose=True)\n",
      "\n",
      "# nn = best_nn\n",
      "\n",
      "# plt.subplot(2,1,1)\n",
      "# plt.plot(stats['loss_history'])\n",
      "# plt.xlabel('Iteration')\n",
      "# plt.ylabel('Loss')\n",
      "\n",
      "plt.subplot(1,1,1)\n",
      "plt.plot(stats['train_acc_history'],c='r')\n",
      "plt.plot(stats['val_acc_history'],c='b')\n",
      "plt.xlabel('Epoch')\n",
      "plt.ylabel('Accuracy')\n",
      "plt.show()\n",
      "\n",
      "y_pred = nn.predict(X_train)\n",
      "print 'Training accuracy: %f' % (np.mean(y_pred == y_train))\n",
      "y_pred_val = nn.predict(X_val)\n",
      "print 'Validation accuracy: %f' % (np.mean(y_pred_val == y_val))"
     ],
     "language": "python",
     "metadata": {},
     "outputs": [
      {
       "output_type": "stream",
       "stream": "stdout",
       "text": [
        "Loss in Iteration (0/1000): 2.461376\n",
        "Loss in Iteration (100/1000): 0.269519"
       ]
      },
      {
       "output_type": "stream",
       "stream": "stdout",
       "text": [
        "\n",
        "Loss in Iteration (200/1000): 0.250915"
       ]
      },
      {
       "output_type": "stream",
       "stream": "stdout",
       "text": [
        "\n",
        "Loss in Iteration (300/1000): 0.098119"
       ]
      },
      {
       "output_type": "stream",
       "stream": "stdout",
       "text": [
        "\n",
        "Loss in Iteration (400/1000): 0.086985"
       ]
      },
      {
       "output_type": "stream",
       "stream": "stdout",
       "text": [
        "\n",
        "Loss in Iteration (500/1000): 0.076765"
       ]
      },
      {
       "output_type": "stream",
       "stream": "stdout",
       "text": [
        "\n",
        "Loss in Iteration (600/1000): 0.037501"
       ]
      },
      {
       "output_type": "stream",
       "stream": "stdout",
       "text": [
        "\n",
        "Loss in Iteration (700/1000): 0.070973"
       ]
      },
      {
       "output_type": "stream",
       "stream": "stdout",
       "text": [
        "\n",
        "Loss in Iteration (800/1000): 0.041823"
       ]
      },
      {
       "output_type": "stream",
       "stream": "stdout",
       "text": [
        "\n",
        "Loss in Iteration (900/1000): 0.032624"
       ]
      },
      {
       "output_type": "stream",
       "stream": "stdout",
       "text": [
        "\n"
       ]
      },
      {
       "metadata": {},
       "output_type": "display_data",
       "png": "[encoded data removed]",
       "text": [
        "<matplotlib.figure.Figure at 0x7f2a6adef7d0>"
       ]
      },
      {
       "output_type": "stream",
       "stream": "stdout",
       "text": [
        "Training accuracy: 0.986220\n",
        "Validation accuracy: 0.975800"
       ]
      },
      {
       "output_type": "stream",
       "stream": "stdout",
       "text": [
        "\n"
       ]
      }
     ],
     "prompt_number": 38
    },
    {
     "cell_type": "code",
     "collapsed": false,
     "input": [
      "y_pred_test = nn.predict(X_test)\n",
      "print 'Testing accuracy: %f' % (np.mean(y_pred_test == y_test))"
     ],
     "language": "python",
     "metadata": {},
     "outputs": [
      {
       "output_type": "stream",
       "stream": "stdout",
       "text": [
        "Testing accuracy: 0.974000\n"
       ]
      }
     ],
     "prompt_number": 39
    },
    {
     "cell_type": "code",
     "collapsed": false,
     "input": [],
     "language": "python",
     "metadata": {},
     "outputs": []
    }
   ],
   "metadata": {}
  }
 ]
}